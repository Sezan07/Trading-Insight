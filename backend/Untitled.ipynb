{
 "cells": [
  {
   "cell_type": "code",
   "execution_count": 4,
   "id": "b81fca62-7310-4428-a8be-0b8fe85d291d",
   "metadata": {},
   "outputs": [
    {
     "name": "stderr",
     "output_type": "stream",
     "text": [
      "[*********************100%***********************]  1 of 1 completed"
     ]
    },
    {
     "name": "stdout",
     "output_type": "stream",
     "text": [
      "Price                       Adj Close       Close        High         Low  \\\n",
      "Ticker                           AAPL        AAPL        AAPL        AAPL   \n",
      "Date                                                                        \n",
      "2024-10-17 00:00:00+00:00  231.894867  232.149994  233.850006  230.520004   \n",
      "2024-10-18 00:00:00+00:00  234.741730  235.000000  236.179993  234.009995   \n",
      "2024-10-21 00:00:00+00:00  236.220108  236.479996  236.850006  234.449997   \n",
      "2024-10-22 00:00:00+00:00  235.600800  235.860001  236.220001  232.600006   \n",
      "2024-10-23 00:00:00+00:00  230.506393  230.759995  235.139999  227.759995   \n",
      "2024-10-24 00:00:00+00:00  230.316620  230.570007  230.820007  228.410004   \n",
      "2024-10-25 00:00:00+00:00  231.155685  231.410004  233.220001  229.570007   \n",
      "2024-10-28 00:00:00+00:00  233.143494  233.399994  234.729996  232.550003   \n",
      "2024-10-29 00:00:00+00:00  233.413193  233.669998  234.330002  232.320007   \n",
      "2024-10-30 00:00:00+00:00  229.847122  230.100006  233.470001  229.550003   \n",
      "2024-10-31 00:00:00+00:00  225.661728  225.910004  229.830002  225.369995   \n",
      "2024-11-01 00:00:00+00:00  222.665024  222.910004  225.350006  220.270004   \n",
      "2024-11-04 00:00:00+00:00  221.766006  222.009995  222.789993  219.710007   \n",
      "2024-11-05 00:00:00+00:00  223.204422  223.449997  223.949997  221.139999   \n",
      "2024-11-06 00:00:00+00:00  222.475235  222.720001  226.070007  221.190002   \n",
      "2024-11-07 00:00:00+00:00  227.229996  227.479996  227.880005  224.570007   \n",
      "2024-11-08 00:00:00+00:00  226.960007  226.960007  228.660004  226.410004   \n",
      "2024-11-11 00:00:00+00:00  224.229996  224.229996  225.699997  221.500000   \n",
      "2024-11-12 00:00:00+00:00  224.229996  224.229996  225.589996  223.360001   \n",
      "2024-11-13 00:00:00+00:00  225.119995  225.119995  226.649994  222.759995   \n",
      "2024-11-14 00:00:00+00:00  228.220001  228.220001  228.869995  225.000000   \n",
      "2024-11-15 00:00:00+00:00  225.000000  225.000000  226.919998  224.270004   \n",
      "\n",
      "Price                            Open    Volume  \n",
      "Ticker                           AAPL      AAPL  \n",
      "Date                                             \n",
      "2024-10-17 00:00:00+00:00  233.429993  32993800  \n",
      "2024-10-18 00:00:00+00:00  236.179993  46431500  \n",
      "2024-10-21 00:00:00+00:00  234.449997  36254500  \n",
      "2024-10-22 00:00:00+00:00  233.889999  38846600  \n",
      "2024-10-23 00:00:00+00:00  234.080002  52287000  \n",
      "2024-10-24 00:00:00+00:00  229.979996  31109500  \n",
      "2024-10-25 00:00:00+00:00  229.740005  38802300  \n",
      "2024-10-28 00:00:00+00:00  233.320007  36087100  \n",
      "2024-10-29 00:00:00+00:00  233.100006  35417200  \n",
      "2024-10-30 00:00:00+00:00  232.610001  47070900  \n",
      "2024-10-31 00:00:00+00:00  229.339996  64370100  \n",
      "2024-11-01 00:00:00+00:00  220.970001  65276700  \n",
      "2024-11-04 00:00:00+00:00  220.990005  44944500  \n",
      "2024-11-05 00:00:00+00:00  221.800003  28111300  \n",
      "2024-11-06 00:00:00+00:00  222.610001  54561100  \n",
      "2024-11-07 00:00:00+00:00  224.630005  42137700  \n",
      "2024-11-08 00:00:00+00:00  227.169998  38328800  \n",
      "2024-11-11 00:00:00+00:00  225.000000  42005600  \n",
      "2024-11-12 00:00:00+00:00  224.550003  40398300  \n",
      "2024-11-13 00:00:00+00:00  224.009995  48566200  \n",
      "2024-11-14 00:00:00+00:00  225.020004  44923900  \n",
      "2024-11-15 00:00:00+00:00  226.399994  47832200  \n"
     ]
    },
    {
     "name": "stderr",
     "output_type": "stream",
     "text": [
      "\n"
     ]
    }
   ],
   "source": [
    "import yfinance as yf\n",
    "from datetime import datetime, timedelta\n",
    "\n",
    "# Get the current date and calculate the start date (one month ago)\n",
    "end = datetime.now()\n",
    "start = end - timedelta(days=30)  # Last 30 days for example\n",
    "\n",
    "# Download stock data using Yahoo Finance\n",
    "stock_data = yf.download('AAPL', start=start, end=end)\n",
    "\n",
    "# Display the stock data\n",
    "print(stock_data)"
   ]
  },
  {
   "cell_type": "code",
   "execution_count": 4,
   "id": "2ed3ce7e-9f92-4f22-ab2d-eae261a1ae92",
   "metadata": {},
   "outputs": [
    {
     "name": "stdout",
     "output_type": "stream",
     "text": [
      "Requirement already satisfied: yfinance in /opt/anaconda3/lib/python3.12/site-packages (0.2.48)\n",
      "Requirement already satisfied: pandas>=1.3.0 in /opt/anaconda3/lib/python3.12/site-packages (from yfinance) (2.2.2)\n",
      "Requirement already satisfied: numpy>=1.16.5 in /opt/anaconda3/lib/python3.12/site-packages (from yfinance) (1.26.4)\n",
      "Requirement already satisfied: requests>=2.31 in /opt/anaconda3/lib/python3.12/site-packages (from yfinance) (2.32.3)\n",
      "Requirement already satisfied: multitasking>=0.0.7 in /opt/anaconda3/lib/python3.12/site-packages (from yfinance) (0.0.11)\n",
      "Requirement already satisfied: lxml>=4.9.1 in /opt/anaconda3/lib/python3.12/site-packages (from yfinance) (5.2.1)\n",
      "Requirement already satisfied: platformdirs>=2.0.0 in /opt/anaconda3/lib/python3.12/site-packages (from yfinance) (3.10.0)\n",
      "Requirement already satisfied: pytz>=2022.5 in /opt/anaconda3/lib/python3.12/site-packages (from yfinance) (2024.1)\n",
      "Requirement already satisfied: frozendict>=2.3.4 in /opt/anaconda3/lib/python3.12/site-packages (from yfinance) (2.4.2)\n",
      "Requirement already satisfied: peewee>=3.16.2 in /opt/anaconda3/lib/python3.12/site-packages (from yfinance) (3.17.7)\n",
      "Requirement already satisfied: beautifulsoup4>=4.11.1 in /opt/anaconda3/lib/python3.12/site-packages (from yfinance) (4.12.3)\n",
      "Requirement already satisfied: html5lib>=1.1 in /opt/anaconda3/lib/python3.12/site-packages (from yfinance) (1.1)\n",
      "Requirement already satisfied: soupsieve>1.2 in /opt/anaconda3/lib/python3.12/site-packages (from beautifulsoup4>=4.11.1->yfinance) (2.5)\n",
      "Requirement already satisfied: six>=1.9 in /opt/anaconda3/lib/python3.12/site-packages (from html5lib>=1.1->yfinance) (1.16.0)\n",
      "Requirement already satisfied: webencodings in /opt/anaconda3/lib/python3.12/site-packages (from html5lib>=1.1->yfinance) (0.5.1)\n",
      "Requirement already satisfied: python-dateutil>=2.8.2 in /opt/anaconda3/lib/python3.12/site-packages (from pandas>=1.3.0->yfinance) (2.9.0.post0)\n",
      "Requirement already satisfied: tzdata>=2022.7 in /opt/anaconda3/lib/python3.12/site-packages (from pandas>=1.3.0->yfinance) (2023.3)\n",
      "Requirement already satisfied: charset-normalizer<4,>=2 in /opt/anaconda3/lib/python3.12/site-packages (from requests>=2.31->yfinance) (3.3.2)\n",
      "Requirement already satisfied: idna<4,>=2.5 in /opt/anaconda3/lib/python3.12/site-packages (from requests>=2.31->yfinance) (3.7)\n",
      "Requirement already satisfied: urllib3<3,>=1.21.1 in /opt/anaconda3/lib/python3.12/site-packages (from requests>=2.31->yfinance) (2.2.3)\n",
      "Requirement already satisfied: certifi>=2017.4.17 in /opt/anaconda3/lib/python3.12/site-packages (from requests>=2.31->yfinance) (2024.8.30)\n",
      "Note: you may need to restart the kernel to use updated packages.\n"
     ]
    }
   ],
   "source": [
    "pip install --upgrade yfinance\n"
   ]
  },
  {
   "cell_type": "code",
   "execution_count": 6,
   "id": "a727480a-c320-4a51-8b0a-9eaa56ad67e3",
   "metadata": {},
   "outputs": [
    {
     "ename": "SyntaxError",
     "evalue": "invalid syntax (2352889422.py, line 1)",
     "output_type": "error",
     "traceback": [
      "\u001b[0;36m  Cell \u001b[0;32mIn[6], line 1\u001b[0;36m\u001b[0m\n\u001b[0;31m    pip uninstall yfinance\u001b[0m\n\u001b[0m        ^\u001b[0m\n\u001b[0;31mSyntaxError\u001b[0m\u001b[0;31m:\u001b[0m invalid syntax\n"
     ]
    }
   ],
   "source": [
    "pip uninstall yfinance\n",
    "pip install yfinance"
   ]
  },
  {
   "cell_type": "code",
   "execution_count": null,
   "id": "927d5d45-c885-4d46-a00b-8a90a6212412",
   "metadata": {},
   "outputs": [],
   "source": []
  }
 ],
 "metadata": {
  "kernelspec": {
   "display_name": "base",
   "language": "python",
   "name": "python3"
  },
  "language_info": {
   "codemirror_mode": {
    "name": "ipython",
    "version": 3
   },
   "file_extension": ".py",
   "mimetype": "text/x-python",
   "name": "python",
   "nbconvert_exporter": "python",
   "pygments_lexer": "ipython3",
   "version": "3.12.7"
  }
 },
 "nbformat": 4,
 "nbformat_minor": 5
}
